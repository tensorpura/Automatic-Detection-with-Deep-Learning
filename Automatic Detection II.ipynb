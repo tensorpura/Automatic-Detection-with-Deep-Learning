{
 "cells": [
  {
   "cell_type": "code",
   "execution_count": null,
   "id": "cd06ae87",
   "metadata": {},
   "outputs": [],
   "source": [
    "from matplotlib import pyplot as plt\n",
    "import cv2\n",
    "import numpy as np\n",
    "from PIL import Image\n",
    "from tensorflow import keras"
   ]
  },
  {
   "cell_type": "code",
   "execution_count": 6,
   "id": "a5b1cb9e",
   "metadata": {},
   "outputs": [],
   "source": [
    "train_dir = '/Users/dyy/Desktop/CrackData/train/'\n",
    "test_dir = '/Users/dyy/Desktop/CrackData/test/'\n",
    "val_dir ='/Users/dyy/Desktop/CrackData/validation/'"
   ]
  },
  {
   "cell_type": "code",
   "execution_count": 7,
   "id": "8a8e38e6",
   "metadata": {},
   "outputs": [],
   "source": [
    "def process_image(image):\n",
    "    ret,bi_inv = cv2.threshold(image,127,255,cv2.THRESH_BINARY_INV)\n",
    "    #plt.imshow(bi_inv, 'gray')\n",
    "    return bi_inv, image\n",
    "\n",
    "def create_data(tdir_, type_, frm, to, t_data):\n",
    "    colored_data=[]\n",
    "    bi_inv_data=[]\n",
    "    print('Working On '+t_data+' Data : '+type_ +'\\n')\n",
    "    rng = [\"%05d\" % x for x in range(frm, to+1)]\n",
    "    for i in rng:\n",
    "        dir_ =tdir_+type_+'/'+i+'.jpg'\n",
    "        image = cv2.imread(dir_, 0)\n",
    "        bi_inv, colored_img = process_image(image)\n",
    "        colored_data.append(colored_img)\n",
    "        bi_inv_data.append(bi_inv)   \n",
    "        \n",
    "    print('Images Processed from '+rng[0]+' to '+rng[len(rng)-1]+'\\n')    \n",
    "    return colored_data, bi_inv_data"
   ]
  },
  {
   "cell_type": "code",
   "execution_count": 8,
   "id": "24cadb11",
   "metadata": {},
   "outputs": [
    {
     "name": "stdout",
     "output_type": "stream",
     "text": [
      "Working On Training Data : Positive\n",
      "\n",
      "Images Processed from 00001 to 03000\n",
      "\n",
      "Working On Training Data : Negative\n",
      "\n",
      "Images Processed from 00001 to 03000\n",
      "\n",
      "Shape of Training Data : (6000, 227, 227, 1)\n"
     ]
    }
   ],
   "source": [
    "train_data_colr= []\n",
    "train_labels=[]\n",
    "train_data_inv = []\n",
    "\n",
    "train_data_colr_pos, train_data_inv_pos=  create_data(train_dir, 'Positive', 1, 3000, 'Training')\n",
    "\n",
    "for i in range(0, len(train_data_colr_pos)):\n",
    "    train_data_colr.append(train_data_colr_pos[i])\n",
    "    train_data_inv.append(train_data_inv_pos[i])\n",
    "    train_labels.append(1)\n",
    "\n",
    "train_data_colr_neg, train_data_inv_neg=  create_data(train_dir, 'Negative', 1, 3000, 'Training')\n",
    "\n",
    "for i in range(0, len(train_data_colr_neg)):\n",
    "    train_data_colr.append(train_data_colr_neg[i])\n",
    "    train_data_inv.append(train_data_inv_neg[i])\n",
    "    train_labels.append(0)\n",
    "    \n",
    "\n",
    "final_train_colr = np.array(train_data_colr).reshape(((len(train_data_colr), 227, 227, 1)))        \n",
    "final_train_inv = np.array(train_data_inv).reshape(((len(train_data_inv), 227, 227, 1)))   \n",
    "\n",
    "print('Shape of Training Data : '+str(final_train_colr.shape))    "
   ]
  },
  {
   "cell_type": "code",
   "execution_count": 9,
   "id": "c63f10d6",
   "metadata": {},
   "outputs": [
    {
     "data": {
      "text/plain": [
       "<matplotlib.image.AxesImage at 0x144349250>"
      ]
     },
     "execution_count": 9,
     "metadata": {},
     "output_type": "execute_result"
    },
    {
     "data": {
      "image/png": "[encoded data removed]",
      "text/plain": [
       "<Figure size 640x480 with 1 Axes>"
      ]
     },
     "metadata": {},
     "output_type": "display_data"
    }
   ],
   "source": [
    "plt.imshow(train_data_inv_pos[8])"
   ]
  },
  {
   "cell_type": "code",
   "execution_count": 10,
   "id": "bc1dcce0",
   "metadata": {},
   "outputs": [
    {
     "data": {
      "text/plain": [
       "<matplotlib.image.AxesImage at 0x1445d17d0>"
      ]
     },
     "execution_count": 10,
     "metadata": {},
     "output_type": "execute_result"
    },
    {
     "data": {
      "image/png": "[encoded data removed]",
      "text/plain": [
       "<Figure size 640x480 with 1 Axes>"
      ]
     },
     "metadata": {},
     "output_type": "display_data"
    }
   ],
   "source": [
    "plt.imshow(train_data_inv_neg[8])"
   ]
  },
  {
   "cell_type": "code",
   "execution_count": 11,
   "id": "1bc4053c",
   "metadata": {},
   "outputs": [
    {
     "name": "stdout",
     "output_type": "stream",
     "text": [
      "Working On Validation Data : positive\n",
      "\n",
      "Images Processed from 03001 to 03600\n",
      "\n",
      "Working On Validation Data : negative\n",
      "\n",
      "Images Processed from 03001 to 03600\n",
      "\n",
      "Shape of Validation Data : (1200, 227, 227, 1)\n"
     ]
    }
   ],
   "source": [
    "val_data_colr= []\n",
    "val_labels=[]\n",
    "val_data_inv = []\n",
    "\n",
    "val_data_colr_pos, val_data_inv_pos=  create_data(val_dir, 'positive', 3001, 3600, 'Validation')\n",
    "\n",
    "\n",
    "for i in range(0, len(val_data_colr_pos)):\n",
    "    val_data_colr.append(val_data_colr_pos[i])\n",
    "    val_data_inv.append(val_data_inv_pos[i])\n",
    "    val_labels.append(1)\n",
    "\n",
    "val_data_colr_neg, val_data_inv_neg=  create_data(val_dir, 'negative', 3001, 3600, 'Validation')\n",
    "\n",
    "for i in range(0, len(val_data_colr_neg)):\n",
    "    val_data_colr.append(val_data_colr_neg[i])\n",
    "    val_data_inv.append(val_data_inv_neg[i])\n",
    "    val_labels.append(0)\n",
    "    \n",
    "final_val_colr = np.array(val_data_colr).reshape(((len(val_data_colr), 227, 227, 1)))    \n",
    "final_val_inv = np.array(val_data_inv).reshape(((len(val_data_inv), 227, 227, 1)))   \n",
    "\n",
    "print('Shape of Validation Data : '+str(final_val_colr.shape))"
   ]
  },
  {
   "cell_type": "code",
   "execution_count": 12,
   "id": "96fe38eb",
   "metadata": {},
   "outputs": [
    {
     "name": "stdout",
     "output_type": "stream",
     "text": [
      "Working On Testing Data : positive\n",
      "\n",
      "Images Processed from 03601 to 04000\n",
      "\n",
      "Working On Testing Data : negative\n",
      "\n",
      "Images Processed from 03601 to 04000\n",
      "\n",
      "Shape of Testing Data : (800, 227, 227, 1)\n"
     ]
    }
   ],
   "source": [
    "test_data_colr= []\n",
    "test_labels=[]\n",
    "test_data_inv = []\n",
    "\n",
    "test_data_colr_pos, test_data_inv_pos=  create_data(test_dir, 'positive', 3601, 4000, 'Testing')\n",
    "\n",
    "\n",
    "for i in range(0, len(test_data_colr_pos)):\n",
    "    test_data_colr.append(test_data_colr_pos[i])\n",
    "    test_data_inv.append(test_data_inv_pos[i])\n",
    "    test_labels.append(1)\n",
    "\n",
    "test_data_colr_neg, test_data_inv_neg=  create_data(test_dir, 'negative', 3601, 4000, 'Testing')\n",
    "\n",
    "for i in range(0, len(test_data_colr_neg)):\n",
    "    test_data_colr.append(test_data_colr_neg[i])\n",
    "    test_data_inv.append(test_data_inv_neg[i])\n",
    "    test_labels.append(0)\n",
    "    \n",
    "final_test_colr = np.array(test_data_colr).reshape(((len(test_data_colr), 227, 227, 1)))    \n",
    "final_test_inv = np.array(test_data_inv).reshape(((len(test_data_inv), 227, 227, 1)))   \n",
    "\n",
    "print('Shape of Testing Data : '+str(final_test_colr.shape))"
   ]
  },
  {
   "cell_type": "code",
   "execution_count": 21,
   "id": "fe14d3cc",
   "metadata": {},
   "outputs": [],
   "source": [
    "train_labels_array = np.array(train_labels)\n",
    "val_labels_array = np.array(val_labels)\n",
    "test_labels_array = np.array(test_labels)"
   ]
  },
  {
   "cell_type": "code",
   "execution_count": 14,
   "id": "df83d1d6",
   "metadata": {},
   "outputs": [],
   "source": [
    "from keras.models import Sequential\n",
    "from keras.layers import Conv2D, MaxPooling2D\n",
    "from keras.layers import Activation, Dropout, Flatten, Dense\n",
    "from keras.models import load_model"
   ]
  },
  {
   "cell_type": "code",
   "execution_count": 15,
   "id": "ac993f7e",
   "metadata": {},
   "outputs": [],
   "source": [
    "input_shape = (227, 227, 1)\n",
    "Wh = 3\n",
    "Ww = 3"
   ]
  },
  {
   "cell_type": "code",
   "execution_count": 16,
   "id": "8cd59833",
   "metadata": {},
   "outputs": [],
   "source": [
    "model = Sequential()\n",
    "model.add(Conv2D(input_shape=input_shape , data_format=\"channels_last\", kernel_size=(Wh,Ww), filters=32, padding='same'))\n",
    "model.add(Activation('relu'))\n",
    "model.add(MaxPooling2D(pool_size=(2, 2)))\n",
    "\n",
    "model.add(Conv2D(32, (3, 3)))\n",
    "model.add(Activation('relu'))\n",
    "model.add(MaxPooling2D(pool_size=(2, 2)))\n",
    "\n",
    "model.add(Conv2D(64, (3, 3)))\n",
    "model.add(Activation('relu'))\n",
    "model.add(MaxPooling2D(pool_size=(2, 2)))\n",
    "\n",
    "model.add(Flatten())\n",
    "model.add(Dense(64))\n",
    "model.add(Activation('relu'))\n",
    "model.add(Dropout(0.5))\n",
    "model.add(Dense(1))\n",
    "model.add(Activation('sigmoid'))"
   ]
  },
  {
   "cell_type": "code",
   "execution_count": 17,
   "id": "47f417cd",
   "metadata": {},
   "outputs": [],
   "source": [
    "batch_size = 250\n",
    "epochs = 30"
   ]
  },
  {
   "cell_type": "code",
   "execution_count": 18,
   "id": "745563ba",
   "metadata": {},
   "outputs": [
    {
     "name": "stdout",
     "output_type": "stream",
     "text": [
      "Epoch 1/30\n",
      "24/24 [==============================] - 994s 41s/step - loss: 13.2752 - accuracy: 0.7660 - val_loss: 0.3500 - val_accuracy: 0.8883\n",
      "Epoch 2/30\n",
      "24/24 [==============================] - 1302s 54s/step - loss: 0.3830 - accuracy: 0.8672 - val_loss: 0.4514 - val_accuracy: 0.9150\n",
      "Epoch 3/30\n",
      "24/24 [==============================] - 833s 34s/step - loss: 0.2674 - accuracy: 0.9010 - val_loss: 0.7663 - val_accuracy: 0.8408\n",
      "Epoch 4/30\n",
      "24/24 [==============================] - 763s 32s/step - loss: 0.2062 - accuracy: 0.9157 - val_loss: 0.1381 - val_accuracy: 0.9508\n",
      "Epoch 5/30\n",
      "24/24 [==============================] - 727s 30s/step - loss: 0.1416 - accuracy: 0.9410 - val_loss: 0.1304 - val_accuracy: 0.9525\n",
      "Epoch 6/30\n",
      "24/24 [==============================] - 736s 31s/step - loss: 0.1270 - accuracy: 0.9480 - val_loss: 0.1206 - val_accuracy: 0.9492\n",
      "Epoch 7/30\n",
      "24/24 [==============================] - 785s 33s/step - loss: 0.0997 - accuracy: 0.9662 - val_loss: 0.0875 - val_accuracy: 0.9658\n",
      "Epoch 8/30\n",
      "24/24 [==============================] - 816s 34s/step - loss: 0.0769 - accuracy: 0.9683 - val_loss: 0.2149 - val_accuracy: 0.9633\n",
      "Epoch 9/30\n",
      "24/24 [==============================] - 682s 28s/step - loss: 0.0590 - accuracy: 0.9773 - val_loss: 0.1029 - val_accuracy: 0.9600\n",
      "Epoch 10/30\n",
      "24/24 [==============================] - 632s 26s/step - loss: 0.0746 - accuracy: 0.9713 - val_loss: 0.0926 - val_accuracy: 0.9708\n",
      "Epoch 11/30\n",
      "24/24 [==============================] - 639s 27s/step - loss: 0.0931 - accuracy: 0.9670 - val_loss: 0.0819 - val_accuracy: 0.9725\n",
      "Epoch 12/30\n",
      "24/24 [==============================] - 648s 27s/step - loss: 0.0376 - accuracy: 0.9807 - val_loss: 0.1608 - val_accuracy: 0.9708\n",
      "Epoch 13/30\n",
      "24/24 [==============================] - 607s 25s/step - loss: 0.0452 - accuracy: 0.9840 - val_loss: 0.0987 - val_accuracy: 0.9708\n",
      "Epoch 14/30\n",
      "24/24 [==============================] - 621s 26s/step - loss: 0.0512 - accuracy: 0.9837 - val_loss: 0.1028 - val_accuracy: 0.9675\n",
      "Epoch 15/30\n",
      "24/24 [==============================] - 640s 27s/step - loss: 0.0235 - accuracy: 0.9887 - val_loss: 0.0916 - val_accuracy: 0.9733\n",
      "Epoch 16/30\n",
      "24/24 [==============================] - 619s 26s/step - loss: 0.0612 - accuracy: 0.9850 - val_loss: 0.1479 - val_accuracy: 0.9633\n",
      "Epoch 17/30\n",
      "24/24 [==============================] - 645s 27s/step - loss: 0.0222 - accuracy: 0.9905 - val_loss: 0.0924 - val_accuracy: 0.9725\n",
      "Epoch 18/30\n",
      "24/24 [==============================] - 643s 27s/step - loss: 0.0195 - accuracy: 0.9910 - val_loss: 0.1648 - val_accuracy: 0.9625\n",
      "Epoch 19/30\n",
      "24/24 [==============================] - 618s 26s/step - loss: 0.0264 - accuracy: 0.9893 - val_loss: 0.0935 - val_accuracy: 0.9742\n",
      "Epoch 20/30\n",
      "24/24 [==============================] - 642s 27s/step - loss: 0.0414 - accuracy: 0.9893 - val_loss: 0.0842 - val_accuracy: 0.9867\n",
      "Epoch 21/30\n",
      "24/24 [==============================] - 654s 27s/step - loss: 0.0321 - accuracy: 0.9937 - val_loss: 0.1433 - val_accuracy: 0.9767\n",
      "Epoch 22/30\n",
      "24/24 [==============================] - 617s 26s/step - loss: 0.0113 - accuracy: 0.9963 - val_loss: 0.1052 - val_accuracy: 0.9775\n",
      "Epoch 23/30\n",
      "24/24 [==============================] - 599s 25s/step - loss: 0.0317 - accuracy: 0.9923 - val_loss: 0.3960 - val_accuracy: 0.9650\n",
      "Epoch 24/30\n",
      "24/24 [==============================] - 629s 26s/step - loss: 0.0377 - accuracy: 0.9925 - val_loss: 0.1429 - val_accuracy: 0.9783\n",
      "Epoch 25/30\n",
      "24/24 [==============================] - 615s 26s/step - loss: 0.0392 - accuracy: 0.9897 - val_loss: 0.1243 - val_accuracy: 0.9800\n",
      "Epoch 26/30\n",
      "24/24 [==============================] - 537s 22s/step - loss: 0.0085 - accuracy: 0.9967 - val_loss: 0.1249 - val_accuracy: 0.9800\n",
      "Epoch 27/30\n",
      "24/24 [==============================] - 615s 26s/step - loss: 0.0283 - accuracy: 0.9952 - val_loss: 2.6380 - val_accuracy: 0.9508\n",
      "Epoch 28/30\n",
      "24/24 [==============================] - 638s 27s/step - loss: 0.0751 - accuracy: 0.9918 - val_loss: 0.1178 - val_accuracy: 0.9800\n",
      "Epoch 29/30\n",
      "24/24 [==============================] - 624s 26s/step - loss: 0.0088 - accuracy: 0.9975 - val_loss: 0.1768 - val_accuracy: 0.9767\n",
      "Epoch 30/30\n",
      "24/24 [==============================] - 646s 27s/step - loss: 0.0385 - accuracy: 0.9940 - val_loss: 0.1458 - val_accuracy: 0.9750\n"
     ]
    },
    {
     "data": {
      "text/plain": [
       "<keras.src.callbacks.History at 0x1460c0910>"
      ]
     },
     "execution_count": 18,
     "metadata": {},
     "output_type": "execute_result"
    }
   ],
   "source": [
    "model.compile(optimizer='rmsprop', loss='binary_crossentropy', metrics=['accuracy'])\n",
    "\n",
    "model.fit(final_train_inv, train_labels_array, batch_size=batch_size, epochs=epochs, verbose=1, \n",
    "          validation_data=(final_val_inv, val_labels_array))"
   ]
  },
  {
   "cell_type": "code",
   "execution_count": 23,
   "id": "8c8fef13",
   "metadata": {},
   "outputs": [
    {
     "name": "stdout",
     "output_type": "stream",
     "text": [
      "25/25 [==============================] - 8s 323ms/step - loss: 0.2267 - accuracy: 0.9675\n",
      "Final Accuracy :  96.74999713897705 %\n",
      "Final Loss :  0.226725772023201\n"
     ]
    }
   ],
   "source": [
    "score=model.evaluate(final_test_inv, test_labels_array)\n",
    "print('Final Accuracy : ', score[1]*100, \"%\" )\n",
    "print('Final Loss : ', score[0])"
   ]
  },
  {
   "cell_type": "code",
   "execution_count": 48,
   "id": "0654f9fc",
   "metadata": {},
   "outputs": [],
   "source": [
    "model.save('autodetect.keras')"
   ]
  }
 ],
 "metadata": {
  "kernelspec": {
   "display_name": "Python 3 (ipykernel)",
   "language": "python",
   "name": "python3"
  },
  "language_info": {
   "codemirror_mode": {
    "name": "ipython",
    "version": 3
   },
   "file_extension": ".py",
   "mimetype": "text/x-python",
   "name": "python",
   "nbconvert_exporter": "python",
   "pygments_lexer": "ipython3",
   "version": "3.11.5"
  }
 },
 "nbformat": 4,
 "nbformat_minor": 5
}
